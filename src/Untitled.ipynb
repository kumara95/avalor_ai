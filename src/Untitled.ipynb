{
 "cells": [
  {
   "cell_type": "code",
   "execution_count": 3,
   "id": "aeedc93d",
   "metadata": {},
   "outputs": [],
   "source": [
    "import requests\n",
    "import drone_api\n",
    "from drone_api import DroneApi\n",
    "import main\n",
    "import util\n",
    "import config"
   ]
  },
  {
   "cell_type": "code",
   "execution_count": 11,
   "id": "20cfc0b1",
   "metadata": {},
   "outputs": [
    {
     "data": {
      "text/plain": [
       "<Response [200]>"
      ]
     },
     "execution_count": 11,
     "metadata": {},
     "output_type": "execute_result"
    }
   ],
   "source": [
    "response=requests.get('http://192.168.1.3:3003/speed')\n",
    "response\n",
    "# response=requests.post('http://192.168.1.3:3000',json='data')"
   ]
  },
  {
   "cell_type": "code",
   "execution_count": 4,
   "id": "d5817892",
   "metadata": {},
   "outputs": [
    {
     "name": "stderr",
     "output_type": "stream",
     "text": [
      "WARNING:root:Post request to http://192.168.1.3:3003/takeoff failed with status code 406\n",
      "WARNING:root:Vehicle already airborne\n"
     ]
    }
   ],
   "source": [
    "drone_api = DroneApi(3003)\n",
    "drone_api.arm()\n",
    "drone_api.takeoff()\n"
   ]
  },
  {
   "cell_type": "code",
   "execution_count": 20,
   "id": "06765ecd",
   "metadata": {},
   "outputs": [],
   "source": [
    "######Coordinates of x-ray#####\n",
    "drone_api.go_to(51.480296,5.342102,41)\n",
    "\n"
   ]
  },
  {
   "cell_type": "code",
   "execution_count": null,
   "id": "2f135b28",
   "metadata": {},
   "outputs": [],
   "source": [
    "def moving_waypoint(self,lat1,long1,alt1,angle1,lat2,long2,alt2,angle2):\n",
    "    drone_api.go_to(lat,long,alt)\n",
    "    drone_api.got_to(lat,long)\n"
   ]
  },
  {
   "cell_type": "code",
   "execution_count": 6,
   "id": "61fa00e2",
   "metadata": {},
   "outputs": [],
   "source": [
    "########### coordinates to the base #########\n",
    "### x-ray to base is 4 minutes\n",
    "drone_api.go_to(51.47674,5.32626,41)"
   ]
  },
  {
   "cell_type": "code",
   "execution_count": 15,
   "id": "a8613cb3",
   "metadata": {},
   "outputs": [],
   "source": [
    "######### yankee\n",
    "drone_api.go_to(51.482569,5.356426,41)"
   ]
  },
  {
   "cell_type": "code",
   "execution_count": null,
   "id": "c358fbff",
   "metadata": {},
   "outputs": [],
   "source": [
    "######## zulu\n",
    "(51.473784,5.354469)"
   ]
  },
  {
   "cell_type": "code",
   "execution_count": 14,
   "id": "bcc35326",
   "metadata": {},
   "outputs": [
    {
     "data": {
      "text/plain": [
       "4.997999320778535"
      ]
     },
     "execution_count": 14,
     "metadata": {},
     "output_type": "execute_result"
    }
   ],
   "source": [
    "drone_api.get_speed()"
   ]
  },
  {
   "cell_type": "code",
   "execution_count": 8,
   "id": "44487f38",
   "metadata": {},
   "outputs": [
    {
     "ename": "NameError",
     "evalue": "name 'pos_url' is not defined",
     "output_type": "error",
     "traceback": [
      "\u001b[1;31m---------------------------------------------------------------------------\u001b[0m",
      "\u001b[1;31mNameError\u001b[0m                                 Traceback (most recent call last)",
      "Cell \u001b[1;32mIn[8], line 1\u001b[0m\n\u001b[1;32m----> 1\u001b[0m \u001b[43mdrone_api\u001b[49m\u001b[38;5;241;43m.\u001b[39;49m\u001b[43mget_distancet\u001b[49m\u001b[43m(\u001b[49m\u001b[43m)\u001b[49m\n",
      "File \u001b[1;32m~\\Desktop\\python-demo\\src\\drone_api.py:43\u001b[0m, in \u001b[0;36mget_distancet\u001b[1;34m(self)\u001b[0m\n\u001b[0;32m     41\u001b[0m def get_distancet(self):\n\u001b[0;32m     42\u001b[0m     post_url=f\"{self.url}/distance\n\u001b[1;32m---> 43\u001b[0m     distance=get(pos_url)\n\u001b[0;32m     44\u001b[0m     if distance==False:\n\u001b[0;32m     45\u001b[0m         return {}\n",
      "\u001b[1;31mNameError\u001b[0m: name 'pos_url' is not defined"
     ]
    }
   ],
   "source": [
    "drone_api.get_distancet()"
   ]
  },
  {
   "cell_type": "code",
   "execution_count": 29,
   "id": "e7dac5ef",
   "metadata": {},
   "outputs": [
    {
     "data": {
      "text/plain": [
       "{'lat': 51.4802958, 'lon': 5.3421014}"
      ]
     },
     "execution_count": 29,
     "metadata": {},
     "output_type": "execute_result"
    }
   ],
   "source": [
    "drone_api.get_position()"
   ]
  },
  {
   "cell_type": "code",
   "execution_count": null,
   "id": "9b601560",
   "metadata": {},
   "outputs": [],
   "source": []
  }
 ],
 "metadata": {
  "kernelspec": {
   "display_name": "Python 3 (ipykernel)",
   "language": "python",
   "name": "python3"
  },
  "language_info": {
   "codemirror_mode": {
    "name": "ipython",
    "version": 3
   },
   "file_extension": ".py",
   "mimetype": "text/x-python",
   "name": "python",
   "nbconvert_exporter": "python",
   "pygments_lexer": "ipython3",
   "version": "3.10.9"
  }
 },
 "nbformat": 4,
 "nbformat_minor": 5
}
